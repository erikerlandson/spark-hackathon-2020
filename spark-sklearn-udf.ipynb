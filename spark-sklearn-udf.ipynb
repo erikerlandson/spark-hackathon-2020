{
 "cells": [
  {
   "cell_type": "code",
   "execution_count": 1,
   "metadata": {},
   "outputs": [],
   "source": [
    "from pyspark.sql import SparkSession\n",
    "import os\n",
    "\n",
    "# The name of your Spark cluster hostname or ip address\n",
    "spark_cluster = os.environ['SPARK_CLUSTER']\n",
    "\n",
    "spark = SparkSession.builder \\\n",
    "    .master('spark://{cluster}:7077'.format(cluster=spark_cluster)) \\\n",
    "    .appName('Spark-UDF-Demo') \\\n",
    "    .getOrCreate()"
   ]
  },
  {
   "cell_type": "code",
   "execution_count": 2,
   "metadata": {},
   "outputs": [],
   "source": [
    "from random import gauss\n",
    "import numpy as np\n",
    "from sklearn import linear_model\n",
    "from random import gauss\n",
    "\n",
    "trainX = np.array([[gauss(0,1),gauss(0,1),gauss(0,1)] for x in range(100)])\n",
    "trainY = np.array([1.0 * x[0] + 2.0 * x[1] + 3.0 * x[2] + gauss(0,1) for x in trainX])"
   ]
  },
  {
   "cell_type": "code",
   "execution_count": 3,
   "metadata": {},
   "outputs": [
    {
     "data": {
      "text/plain": [
       "array([1.03441194, 1.94478251, 2.98967767])"
      ]
     },
     "execution_count": 3,
     "metadata": {},
     "output_type": "execute_result"
    }
   ],
   "source": [
    "regr = linear_model.LinearRegression()\n",
    "regr.fit(trainX, trainY)\n",
    "regr.coef_"
   ]
  },
  {
   "cell_type": "code",
   "execution_count": 4,
   "metadata": {},
   "outputs": [],
   "source": [
    "from pyspark.sql.types import *\n",
    "\n",
    "def predict(x):\n",
    "    return float(regr.predict([x]))\n",
    "\n",
    "spark.udf.register(\"predict\", predict, DoubleType())"
   ]
  },
  {
   "cell_type": "code",
   "execution_count": 5,
   "metadata": {},
   "outputs": [
    {
     "name": "stdout",
     "output_type": "stream",
     "text": [
      "+--------------------+\n",
      "|                   x|\n",
      "+--------------------+\n",
      "|[0.28882317135799...|\n",
      "|[-1.1035224904509...|\n",
      "|[0.91096151183319...|\n",
      "|[-0.1946786346608...|\n",
      "|[-0.5178082287386...|\n",
      "+--------------------+\n",
      "only showing top 5 rows\n",
      "\n",
      "+--------------------+\n",
      "|                   x|\n",
      "+--------------------+\n",
      "|[0.28882317135799...|\n",
      "|[-1.1035224904509...|\n",
      "|[0.91096151183319...|\n",
      "|[-0.1946786346608...|\n",
      "|[-0.5178082287386...|\n",
      "+--------------------+\n",
      "only showing top 5 rows\n",
      "\n"
     ]
    }
   ],
   "source": [
    "xdata = [[[gauss(0,1),gauss(0,1),gauss(0,1)]] for x in range(500000)]\n",
    "dataDF1 = spark.sparkContext.parallelize(xdata, 1) \\\n",
    "    .toDF(StructType([StructField(\"x\", ArrayType(DoubleType()))])) \\\n",
    "    .cache()\n",
    "dataDF2 = spark.sparkContext.parallelize(xdata, 2) \\\n",
    "    .toDF(StructType([StructField(\"x\", ArrayType(DoubleType()))])) \\\n",
    "    .cache()\n",
    "dataDF1.registerTempTable(\"xdata1\")\n",
    "dataDF2.registerTempTable(\"xdata2\")\n",
    "dataDF1.show(5)\n",
    "dataDF2.show(5)"
   ]
  },
  {
   "cell_type": "code",
   "execution_count": 6,
   "metadata": {},
   "outputs": [
    {
     "name": "stdout",
     "output_type": "stream",
     "text": [
      "+--------------------+-------------------+\n",
      "|                   x|                  y|\n",
      "+--------------------+-------------------+\n",
      "|[0.28882317135799...| -5.201442738873413|\n",
      "|[-1.1035224904509...| -7.095088720788476|\n",
      "|[0.91096151183319...|  3.157461208548457|\n",
      "|[-0.1946786346608...|-1.5128694613688918|\n",
      "|[-0.5178082287386...|-3.2399367860365227|\n",
      "+--------------------+-------------------+\n",
      "only showing top 5 rows\n",
      "\n",
      "CPU times: user 3.29 ms, sys: 1.41 ms, total: 4.7 ms\n",
      "Wall time: 6.48 s\n"
     ]
    }
   ],
   "source": [
    "%%time\n",
    "predictDF1 = spark.sql(\"select x, predict(x) as y from xdata1\")\n",
    "predictDF1.show(5)"
   ]
  },
  {
   "cell_type": "code",
   "execution_count": 7,
   "metadata": {},
   "outputs": [
    {
     "name": "stdout",
     "output_type": "stream",
     "text": [
      "+--------------------+-------------------+\n",
      "|                   x|                  y|\n",
      "+--------------------+-------------------+\n",
      "|[0.28882317135799...| -5.201442738873413|\n",
      "|[-1.1035224904509...| -7.095088720788476|\n",
      "|[0.91096151183319...|  3.157461208548457|\n",
      "|[-0.1946786346608...|-1.5128694613688918|\n",
      "|[-0.5178082287386...|-3.2399367860365227|\n",
      "+--------------------+-------------------+\n",
      "only showing top 5 rows\n",
      "\n",
      "CPU times: user 2.24 ms, sys: 2.01 ms, total: 4.25 ms\n",
      "Wall time: 3.89 s\n"
     ]
    }
   ],
   "source": [
    "%%time\n",
    "predictDF2 = spark.sql(\"select x, predict(x) as y from xdata2\")\n",
    "predictDF2.show(5)"
   ]
  },
  {
   "cell_type": "code",
   "execution_count": null,
   "metadata": {},
   "outputs": [],
   "source": []
  }
 ],
 "metadata": {
  "kernelspec": {
   "display_name": "Python 3",
   "language": "python",
   "name": "python3"
  },
  "language_info": {
   "codemirror_mode": {
    "name": "ipython",
    "version": 3
   },
   "file_extension": ".py",
   "mimetype": "text/x-python",
   "name": "python",
   "nbconvert_exporter": "python",
   "pygments_lexer": "ipython3",
   "version": "3.6.3"
  }
 },
 "nbformat": 4,
 "nbformat_minor": 2
}
