{
 "cells": [
  {
   "cell_type": "markdown",
   "metadata": {},
   "source": [
    "# Smoke Testing a Spark Cluster"
   ]
  },
  {
   "cell_type": "markdown",
   "metadata": {},
   "source": [
    "### Here is a minimal cell for connecting to an Apache Spark cluster\n",
    "This code only assumes that the environment variable `SPARK_CLUSTER` is set, which Open Data Hub does by default"
   ]
  },
  {
   "cell_type": "code",
   "execution_count": 1,
   "metadata": {},
   "outputs": [],
   "source": [
    "from pyspark.sql import SparkSession\n",
    "import os\n",
    "\n",
    "# The name of your Spark cluster hostname or ip address\n",
    "spark_cluster = os.environ['SPARK_CLUSTER']\n",
    "\n",
    "spark = SparkSession.builder \\\n",
    "    .master('spark://{cluster}:7077'.format(cluster=spark_cluster)) \\\n",
    "    .appName('Spark-Smoke-Test') \\\n",
    "    .getOrCreate()"
   ]
  },
  {
   "cell_type": "markdown",
   "metadata": {},
   "source": [
    "### A simple test that your spark cluster is visible to you and operating\n",
    "When you are unsure of your environment, it's useful to run a very simple test computation, such as\n",
    "the following, where we declare a simple Spark RDD of integers and tell spark to compute their sum"
   ]
  },
  {
   "cell_type": "code",
   "execution_count": 2,
   "metadata": {},
   "outputs": [
    {
     "data": {
      "text/plain": [
       "45"
      ]
     },
     "execution_count": 2,
     "metadata": {},
     "output_type": "execute_result"
    }
   ],
   "source": [
    "rdd = spark.sparkContext.parallelize(range(10), 2)\n",
    "rdd.sum()"
   ]
  },
  {
   "cell_type": "markdown",
   "metadata": {},
   "source": [
    "### Spark transformations\n",
    "Recall that Spark transformations are _lazy_: declaring transforms does not cause Spark to run the actual computations.\n",
    "The following transformations will not execute unless we ask Spark to give us a result that requires it."
   ]
  },
  {
   "cell_type": "code",
   "execution_count": 3,
   "metadata": {},
   "outputs": [],
   "source": [
    "rdd2 = rdd.map(lambda x: 2 * x)\n",
    "rdd3 = rdd2.map(lambda x: x + 1)"
   ]
  },
  {
   "cell_type": "markdown",
   "metadata": {},
   "source": [
    "### Spark actions\n",
    "Actions are Spark operations that require Spark to run physical computations, to return a concrete result.\n",
    "One of the simplest operations - `collect` - tells Spark to execute the physical computations and return the final result to the driver program, in this case our Jupyter notebook:"
   ]
  },
  {
   "cell_type": "code",
   "execution_count": 4,
   "metadata": {},
   "outputs": [
    {
     "data": {
      "text/plain": [
       "[1, 3, 5, 7, 9, 11, 13, 15, 17, 19]"
      ]
     },
     "execution_count": 4,
     "metadata": {},
     "output_type": "execute_result"
    }
   ],
   "source": [
    "rdd3.collect()"
   ]
  },
  {
   "cell_type": "code",
   "execution_count": null,
   "metadata": {},
   "outputs": [],
   "source": []
  }
 ],
 "metadata": {
  "kernelspec": {
   "display_name": "Python 3",
   "language": "python",
   "name": "python3"
  },
  "language_info": {
   "codemirror_mode": {
    "name": "ipython",
    "version": 3
   },
   "file_extension": ".py",
   "mimetype": "text/x-python",
   "name": "python",
   "nbconvert_exporter": "python",
   "pygments_lexer": "ipython3",
   "version": "3.6.3"
  }
 },
 "nbformat": 4,
 "nbformat_minor": 2
}
