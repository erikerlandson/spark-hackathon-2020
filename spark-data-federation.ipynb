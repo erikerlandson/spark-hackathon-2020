{
 "cells": [
  {
   "cell_type": "code",
   "execution_count": 1,
   "metadata": {},
   "outputs": [],
   "source": [
    "from pyspark import SparkConf\n",
    "from pyspark.sql import SparkSession\n",
    "import os\n",
    "\n",
    "# Disable this so that configuration of 'spark.jars.packages' works correctly\n",
    "if 'PYSPARK_SUBMIT_ARGS' in os.environ:\n",
    "    del os.environ['PYSPARK_SUBMIT_ARGS']\n",
    "\n",
    "# Instantiate a spark configuration object to receive settings\n",
    "spark_conf = SparkConf()\n",
    "\n",
    "# Maven coordinates for package containing JDBC drivers\n",
    "jdbc_driver_packages = 'org.postgresql:postgresql:42.2.9,org.apache.spark:spark-sql-kafka-0-10_2.11:2.2.3'\n",
    "\n",
    "# Configure spark to see the postgresql driver package\n",
    "spark_conf.set('spark.jars.packages', jdbc_driver_packages)\n",
    "\n",
    "# The name of your Spark cluster hostname or ip address\n",
    "spark_cluster = os.environ['SPARK_CLUSTER']\n",
    "\n",
    "# Configure some basic spark cluster sizing parameters\n",
    "spark_conf.set('spark.cores.max', 2)\n",
    "spark_conf.set('spark.executor.cores', '1')\n",
    "\n",
    "spark = SparkSession.builder \\\n",
    "    .master('spark://{cluster}:7077'.format(cluster=spark_cluster)) \\\n",
    "    .appName('Spark-Demo') \\\n",
    "    .config(conf = spark_conf) \\\n",
    "    .getOrCreate()"
   ]
  },
  {
   "cell_type": "code",
   "execution_count": 2,
   "metadata": {},
   "outputs": [
    {
     "data": {
      "text/plain": [
       "True"
      ]
     },
     "execution_count": 2,
     "metadata": {},
     "output_type": "execute_result"
    }
   ],
   "source": [
    "'postgresql' in spark.sparkContext.getConf().get('spark.jars')"
   ]
  },
  {
   "cell_type": "code",
   "execution_count": 3,
   "metadata": {},
   "outputs": [
    {
     "name": "stdout",
     "output_type": "stream",
     "text": [
      "+----------+----------+-------+------+-----------+-----------+-------+\n",
      "| timestamp|     label|user_id|amount|merchant_id| trans_type|foreign|\n",
      "+----------+----------+-------+------+-----------+-----------+-------+\n",
      "|1591150620|legitimate|      8|  9.42|          4|     online|  false|\n",
      "|1591150669|legitimate|      9| 36.38|         11|contactless|  false|\n",
      "|1591152891|legitimate|      7| 10.56|          8|     online|  false|\n",
      "|1591157902|legitimate|      9| 25.09|         11|      swipe|  false|\n",
      "|1591157988|legitimate|      8| 17.73|          4|     manual|  false|\n",
      "+----------+----------+-------+------+-----------+-----------+-------+\n",
      "only showing top 5 rows\n",
      "\n"
     ]
    }
   ],
   "source": [
    "import pandas as pd\n",
    "transactionDF = spark.createDataFrame(pd.read_csv(\"fraud.csv\"))\n",
    "transactionDF.show(5)"
   ]
  },
  {
   "cell_type": "code",
   "execution_count": 4,
   "metadata": {},
   "outputs": [
    {
     "name": "stdout",
     "output_type": "stream",
     "text": [
      "+-------+---------+\n",
      "|user_id|user_name|\n",
      "+-------+---------+\n",
      "|      0|     Jake|\n",
      "|      1|  Sherman|\n",
      "|      2|   Morgan|\n",
      "|      3|    Bodie|\n",
      "|      4|      Ben|\n",
      "+-------+---------+\n",
      "only showing top 5 rows\n",
      "\n"
     ]
    }
   ],
   "source": [
    "names = [\"Jake\", \"Sherman\", \"Morgan\", \"Bodie\", \"Ben\", \"Elwood\", \"Sandy\", \"Clover\", \"Molly\", \"Linsey\"]\n",
    "raw = [(j, names[j]) for j in range(10)]\n",
    "tdf = spark.createDataFrame(raw, ['user_id', 'user_name'])\n",
    "userDF = tdf.select(tdf.user_id.cast(\"int\"), tdf.user_name)\n",
    "userDF.show(5)"
   ]
  },
  {
   "cell_type": "code",
   "execution_count": 5,
   "metadata": {},
   "outputs": [
    {
     "name": "stdout",
     "output_type": "stream",
     "text": [
      "+-----------+--------------+\n",
      "|merchant_id| merchant_name|\n",
      "+-----------+--------------+\n",
      "|          0|Changing Hands|\n",
      "|          1|   First Draft|\n",
      "|          2|       Anaya's|\n",
      "|          3|          SBUX|\n",
      "|          4|         Ike's|\n",
      "+-----------+--------------+\n",
      "only showing top 5 rows\n",
      "\n"
     ]
    }
   ],
   "source": [
    "names = [\"Changing Hands\", \"First Draft\", \"Anaya's\", \"SBUX\", \"Ike's\", \"Bob's Burgers\", \"Lovin Spoonful\", \"Ayse's\", \"Dawn Treader\", \"Taco Hut\", \"Johnny's Hots\", \"Pavement\", \"Victrola\", \"The Barn\", \"Clockwork\"]\n",
    "raw = [(j, names[j]) for j in range(15)]\n",
    "tdf = spark.createDataFrame(raw, ['merchant_id', 'merchant_name'])\n",
    "merchantDF = tdf.select(tdf.merchant_id.cast(\"int\"), tdf.merchant_name)\n",
    "merchantDF.show(5)"
   ]
  },
  {
   "cell_type": "code",
   "execution_count": 6,
   "metadata": {},
   "outputs": [],
   "source": [
    "transactionDF.registerTempTable(\"transactions\")\n",
    "userDF.registerTempTable(\"users\")\n",
    "merchantDF.registerTempTable(\"merchants\")"
   ]
  },
  {
   "cell_type": "code",
   "execution_count": 7,
   "metadata": {},
   "outputs": [],
   "source": [
    "joinq = \"\"\"\n",
    "SELECT timestamp, user_name, merchant_name, foreign, trans_type, amount FROM\n",
    "transactions\n",
    "left join users on transactions.user_id = users.user_id\n",
    "left join merchants on transactions.merchant_id = merchants.merchant_id\n",
    "\"\"\"\n",
    "\n",
    "joinDF = spark.sql(joinq)"
   ]
  },
  {
   "cell_type": "code",
   "execution_count": 8,
   "metadata": {},
   "outputs": [
    {
     "name": "stdout",
     "output_type": "stream",
     "text": [
      "+----------+---------+--------------+-------+------------+------+\n",
      "| timestamp|user_name| merchant_name|foreign|  trans_type|amount|\n",
      "+----------+---------+--------------+-------+------------+------+\n",
      "|1592832148|   Clover|Changing Hands|  false| contactless| 20.61|\n",
      "|1592885322|   Clover|Changing Hands|   true|      online| 26.98|\n",
      "|1592966814|   Clover|Changing Hands|   true|      online| 16.64|\n",
      "|1593151665|   Clover|Changing Hands|  false|chip_and_pin| 38.89|\n",
      "|1594246175|   Clover|Changing Hands|  false|      online| 20.65|\n",
      "+----------+---------+--------------+-------+------------+------+\n",
      "only showing top 5 rows\n",
      "\n"
     ]
    }
   ],
   "source": [
    "joinDF.show(5)"
   ]
  },
  {
   "cell_type": "code",
   "execution_count": 9,
   "metadata": {},
   "outputs": [
    {
     "name": "stdout",
     "output_type": "stream",
     "text": [
      "+---------+------------------+\n",
      "|user_name|               avg|\n",
      "+---------+------------------+\n",
      "|   Linsey| 42.80322639780018|\n",
      "|    Sandy| 40.50369382022472|\n",
      "|   Morgan| 39.76930656934306|\n",
      "|    Molly| 36.44709313264344|\n",
      "|   Elwood| 35.53930167597765|\n",
      "|    Bodie| 34.17701121794873|\n",
      "|   Clover|  33.9838043478261|\n",
      "|  Sherman|33.636657608695636|\n",
      "|     Jake|30.170527369826427|\n",
      "|      Ben|26.919920948616625|\n",
      "+---------+------------------+\n",
      "\n"
     ]
    }
   ],
   "source": [
    "from pyspark.sql import functions as F\n",
    "g = joinDF.groupBy(\"user_name\").agg(F.mean(\"amount\").alias(\"avg\"))\n",
    "g.sort(F.desc(\"avg\")).show()"
   ]
  },
  {
   "cell_type": "code",
   "execution_count": 10,
   "metadata": {},
   "outputs": [
    {
     "name": "stdout",
     "output_type": "stream",
     "text": [
      "+--------------+------------------+\n",
      "| merchant_name|               avg|\n",
      "+--------------+------------------+\n",
      "|        Ayse's|52.653333333333336|\n",
      "| Bob's Burgers| 47.96741935483872|\n",
      "|      Victrola| 44.00807692307693|\n",
      "|          SBUX| 42.44407407407408|\n",
      "|      Pavement|38.924850213980044|\n",
      "|     Clockwork| 38.50538082191775|\n",
      "|Lovin Spoonful|34.724619771863075|\n",
      "|         Ike's| 34.19377874186547|\n",
      "|  Dawn Treader|31.942931896883348|\n",
      "| Johnny's Hots| 30.46848484848485|\n",
      "|      The Barn|27.206857142857146|\n",
      "|      Taco Hut| 26.23961538461538|\n",
      "|   First Draft|23.740312500000005|\n",
      "|Changing Hands|23.066451612903226|\n",
      "|       Anaya's|22.162608695652178|\n",
      "+--------------+------------------+\n",
      "\n"
     ]
    }
   ],
   "source": [
    "g = joinDF.groupBy(\"merchant_name\").agg(F.mean(\"amount\").alias(\"avg\"))\n",
    "g.sort(F.desc(\"avg\")).show()"
   ]
  },
  {
   "cell_type": "code",
   "execution_count": 11,
   "metadata": {},
   "outputs": [],
   "source": [
    "spark_jdbc_url = 'jdbc:postgresql://{host}:{port}/{database}'.format( \\\n",
    "    host     = 'postgresql', \\\n",
    "    port     = '5432', \\\n",
    "    database = 'demo')\n",
    "\n",
    "spark_jdbc_prop = { \\\n",
    "    'user':     'demo', \\\n",
    "    'password': 'demo', \\\n",
    "    'driver':   'org.postgresql.Driver'\n",
    "}"
   ]
  },
  {
   "cell_type": "code",
   "execution_count": 12,
   "metadata": {},
   "outputs": [],
   "source": [
    "transactionDF.write.jdbc(table='transactions', mode='overwrite', url=spark_jdbc_url, properties=spark_jdbc_prop)"
   ]
  },
  {
   "cell_type": "code",
   "execution_count": 13,
   "metadata": {},
   "outputs": [
    {
     "name": "stdout",
     "output_type": "stream",
     "text": [
      "+----------+----------+-------+------+-----------+------------+-------+\n",
      "| timestamp|     label|user_id|amount|merchant_id|  trans_type|foreign|\n",
      "+----------+----------+-------+------+-----------+------------+-------+\n",
      "|1598608959|legitimate|      8| 18.76|          4|      online|  false|\n",
      "|1598609843|legitimate|      3| 129.7|          8|      online|   true|\n",
      "|1598610775|legitimate|      9| 42.84|         14|       swipe|  false|\n",
      "|1598610872|legitimate|      1| 28.08|          6|chip_and_pin|  false|\n",
      "|1598610890|legitimate|      2| 10.29|         11|      online|  false|\n",
      "+----------+----------+-------+------+-----------+------------+-------+\n",
      "only showing top 5 rows\n",
      "\n"
     ]
    }
   ],
   "source": [
    "transactionSQLDF = spark.read.jdbc( \\\n",
    "    table      = '({q}) tmp'.format(q='select * from transactions'), \\\n",
    "    url        = spark_jdbc_url, \\\n",
    "    properties = spark_jdbc_prop \\\n",
    ")\n",
    "\n",
    "transactionSQLDF.show(5)"
   ]
  },
  {
   "cell_type": "code",
   "execution_count": 14,
   "metadata": {},
   "outputs": [
    {
     "name": "stdout",
     "output_type": "stream",
     "text": [
      "+----------+---------+--------------+-------+------------+------+\n",
      "| timestamp|user_name| merchant_name|foreign|  trans_type|amount|\n",
      "+----------+---------+--------------+-------+------------+------+\n",
      "|1593029512|     Jake|Changing Hands|  false|chip_and_pin|  16.2|\n",
      "|1601491845|     Jake|Changing Hands|  false|chip_and_pin| 16.37|\n",
      "|1595585679|     Jake|Changing Hands|  false|      manual| 15.51|\n",
      "|1596822054|     Jake|Changing Hands|  false| contactless| 15.15|\n",
      "|1592832148|   Clover|Changing Hands|  false| contactless| 20.61|\n",
      "+----------+---------+--------------+-------+------------+------+\n",
      "only showing top 5 rows\n",
      "\n"
     ]
    }
   ],
   "source": [
    "transactionSQLDF.registerTempTable(\"transactionsSQL\")\n",
    "joinq = \"\"\"\n",
    "SELECT timestamp, user_name, merchant_name, foreign, trans_type, amount FROM\n",
    "transactionsSQL\n",
    "left join users on transactionsSQL.user_id = users.user_id\n",
    "left join merchants on transactionsSQL.merchant_id = merchants.merchant_id\n",
    "\"\"\"\n",
    "joinSQLDF = spark.sql(joinq)\n",
    "joinSQLDF.show(5)"
   ]
  },
  {
   "cell_type": "code",
   "execution_count": 15,
   "metadata": {},
   "outputs": [
    {
     "name": "stdout",
     "output_type": "stream",
     "text": [
      "+---------+------------------+\n",
      "|user_name|               avg|\n",
      "+---------+------------------+\n",
      "|   Linsey|42.803226397800174|\n",
      "|    Sandy| 40.50369382022472|\n",
      "|   Morgan| 39.76930656934306|\n",
      "|    Molly| 36.44709313264344|\n",
      "|   Elwood|35.539301675977654|\n",
      "|    Bodie| 34.17701121794872|\n",
      "|   Clover|33.983804347826094|\n",
      "|  Sherman| 33.63665760869564|\n",
      "|     Jake|30.170527369826434|\n",
      "|      Ben|26.919920948616618|\n",
      "+---------+------------------+\n",
      "\n"
     ]
    }
   ],
   "source": [
    "g = joinSQLDF.groupBy(\"user_name\").agg(F.mean(\"amount\").alias(\"avg\"))\n",
    "g.sort(F.desc(\"avg\")).show()"
   ]
  },
  {
   "cell_type": "code",
   "execution_count": 16,
   "metadata": {},
   "outputs": [
    {
     "name": "stdout",
     "output_type": "stream",
     "text": [
      "+--------------+------------------+\n",
      "| merchant_name|               avg|\n",
      "+--------------+------------------+\n",
      "|        Ayse's|52.653333333333336|\n",
      "| Bob's Burgers|47.967419354838704|\n",
      "|      Victrola|44.008076923076935|\n",
      "|          SBUX|42.444074074074074|\n",
      "|      Pavement|38.924850213980044|\n",
      "|     Clockwork| 38.50538082191772|\n",
      "|Lovin Spoonful| 34.72461977186314|\n",
      "|         Ike's|34.193778741865515|\n",
      "|  Dawn Treader| 31.94293189688334|\n",
      "| Johnny's Hots| 30.46848484848485|\n",
      "|      The Barn|27.206857142857135|\n",
      "|      Taco Hut| 26.23961538461538|\n",
      "|   First Draft|23.740312500000005|\n",
      "|Changing Hands|23.066451612903226|\n",
      "|       Anaya's|22.162608695652178|\n",
      "+--------------+------------------+\n",
      "\n"
     ]
    }
   ],
   "source": [
    "g = joinSQLDF.groupBy(\"merchant_name\").agg(F.mean(\"amount\").alias(\"avg\"))\n",
    "g.sort(F.desc(\"avg\")).show()"
   ]
  },
  {
   "cell_type": "code",
   "execution_count": 17,
   "metadata": {},
   "outputs": [],
   "source": [
    "transactionsStreamDF = spark.readStream.format(\"kafka\") \\\n",
    "    .option(\"kafka.bootstrap.servers\", \"odh-message-bus-kafka-bootstrap:9092\") \\\n",
    "    .option(\"subscribe\", \"demotopic\") \\\n",
    "    .option(\"startingOffsets\", \"latest\") \\\n",
    "    .load() \\\n",
    "    .select(F.from_json(F.col(\"value\").cast(\"string\"), transactionDF.schema).alias(\"json\")) \\\n",
    "    .select(F.col(\"json.timestamp\"),F.col(\"json.user_id\"),F.col(\"json.merchant_id\"),F.col(\"json.trans_type\"),F.col(\"json.foreign\"),F.col(\"json.amount\"))"
   ]
  },
  {
   "cell_type": "code",
   "execution_count": 18,
   "metadata": {},
   "outputs": [],
   "source": [
    "transactionsStreamDF.registerTempTable(\"transactionsStream\")\n",
    "joinq = \"\"\"\n",
    "SELECT timestamp, user_name, merchant_name, foreign, trans_type, amount FROM\n",
    "transactionsStream\n",
    "left join users on transactionsStream.user_id = users.user_id\n",
    "left join merchants on transactionsStream.merchant_id = merchants.merchant_id\n",
    "\"\"\"\n",
    "joinStreamDF = spark.sql(joinq)"
   ]
  },
  {
   "cell_type": "code",
   "execution_count": 19,
   "metadata": {},
   "outputs": [],
   "source": [
    "streamquery_user = joinStreamDF.groupBy(\"user_name\").agg(F.mean(\"amount\").alias(\"avg\")).sort(F.desc(\"avg\")).writeStream \\\n",
    "    .trigger(processingTime='1 seconds') \\\n",
    "    .outputMode(\"complete\") \\\n",
    "    .format(\"memory\") \\\n",
    "    .queryName(\"stream_results_user\") \\\n",
    "    .start()\n",
    "\n",
    "streamquery_merchant = joinStreamDF.groupBy(\"merchant_name\").agg(F.mean(\"amount\").alias(\"avg\")).sort(F.desc(\"avg\")).writeStream \\\n",
    "    .trigger(processingTime='1 seconds') \\\n",
    "    .outputMode(\"complete\") \\\n",
    "    .format(\"memory\") \\\n",
    "    .queryName(\"stream_results_merchant\") \\\n",
    "    .start()"
   ]
  },
  {
   "cell_type": "code",
   "execution_count": 24,
   "metadata": {},
   "outputs": [
    {
     "name": "stdout",
     "output_type": "stream",
     "text": [
      "+---------+------------------+\n",
      "|user_name|               avg|\n",
      "+---------+------------------+\n",
      "|   Linsey| 68.18384615384616|\n",
      "|   Morgan| 60.42649999999999|\n",
      "|   Elwood|           46.9708|\n",
      "|    Bodie| 37.15765957446808|\n",
      "|    Molly| 33.91945945945945|\n",
      "|     Jake| 31.00166666666667|\n",
      "|   Clover|            30.175|\n",
      "|  Sherman| 28.55115384615385|\n",
      "|      Ben|            28.025|\n",
      "|    Sandy|23.291999999999998|\n",
      "+---------+------------------+\n",
      "\n",
      "+--------------+------------------+\n",
      "| merchant_name|               avg|\n",
      "+--------------+------------------+\n",
      "|        Ayse's|            126.72|\n",
      "|      Pavement| 48.94244897959183|\n",
      "|         Ike's|46.383939393939414|\n",
      "|     Clockwork|37.025238095238095|\n",
      "| Bob's Burgers|             34.19|\n",
      "|      Taco Hut|            28.965|\n",
      "|  Dawn Treader|27.689655172413794|\n",
      "|Lovin Spoonful| 24.64275862068966|\n",
      "|          SBUX|             20.08|\n",
      "| Johnny's Hots|             14.71|\n",
      "|Changing Hands|             11.75|\n",
      "+--------------+------------------+\n",
      "\n"
     ]
    }
   ],
   "source": [
    "spark.table(\"stream_results_user\").show()\n",
    "spark.table(\"stream_results_merchant\").show()"
   ]
  },
  {
   "cell_type": "code",
   "execution_count": 25,
   "metadata": {},
   "outputs": [],
   "source": [
    "streamquery_user.stop()\n",
    "streamquery_merchant.stop()"
   ]
  },
  {
   "cell_type": "code",
   "execution_count": null,
   "metadata": {},
   "outputs": [],
   "source": []
  }
 ],
 "metadata": {
  "kernelspec": {
   "display_name": "Python 3",
   "language": "python",
   "name": "python3"
  },
  "language_info": {
   "codemirror_mode": {
    "name": "ipython",
    "version": 3
   },
   "file_extension": ".py",
   "mimetype": "text/x-python",
   "name": "python",
   "nbconvert_exporter": "python",
   "pygments_lexer": "ipython3",
   "version": "3.6.3"
  }
 },
 "nbformat": 4,
 "nbformat_minor": 2
}
